{
 "cells": [
  {
   "cell_type": "markdown",
   "metadata": {
    "deletable": true,
    "editable": true
   },
   "source": [
    "# Mean, Median, Mode, and introducing NumPy"
   ]
  },
  {
   "cell_type": "markdown",
   "metadata": {
    "deletable": true,
    "editable": true
   },
   "source": [
    "## Mean vs. Median"
   ]
  },
  {
   "cell_type": "markdown",
   "metadata": {
    "deletable": true,
    "editable": true
   },
   "source": [
    "Let's create some fake income data, centered around 27,000 with a normal distribution and standard deviation of 15,000, with 10,000 data points. (We'll discuss those terms more later, if you're not familiar with them.)\n",
    "\n",
    "Then, compute the mean (average) - it should be close to 27,000:"
   ]
  },
  {
   "cell_type": "code",
   "execution_count": 4,
   "metadata": {
    "collapsed": false,
    "deletable": true,
    "editable": true
   },
   "outputs": [
    {
     "data": {
      "text/plain": [
       "26799.316087624091"
      ]
     },
     "execution_count": 4,
     "metadata": {},
     "output_type": "execute_result"
    }
   ],
   "source": [
    "import numpy as np\n",
    "# random distribution with mean = 27000, sd = 15000 and 10000 points\n",
    "incomes = np.random.normal(27000, 15000, 10000)\n",
    "np.mean(incomes) # this will be pretty close to 27000"
   ]
  },
  {
   "cell_type": "markdown",
   "metadata": {
    "deletable": true,
    "editable": true
   },
   "source": [
    "We can segment the income data into 50 buckets, and plot it as a histogram:"
   ]
  },
  {
   "cell_type": "code",
   "execution_count": 5,
   "metadata": {
    "collapsed": false,
    "deletable": true,
    "editable": true
   },
   "outputs": [
    {
     "data": {
      "image/png": "[encoded data removed]",
      "text/plain": [
       "<matplotlib.figure.Figure at 0x63bc0b8>"
      ]
     },
     "metadata": {},
     "output_type": "display_data"
    }
   ],
   "source": [
    "%matplotlib inline\n",
    "import matplotlib.pyplot as plt\n",
    "plt.hist(incomes, 50)\n",
    "plt.show()\n",
    "# we see in the plot that most of the data is distributed aroun 20000\n",
    "# those at 80000 and -20000 are the outliers\n"
   ]
  },
  {
   "cell_type": "markdown",
   "metadata": {
    "deletable": true,
    "editable": true
   },
   "source": [
    "Now compute the median - since we have a nice, even distribution it too should be close to 27,000:"
   ]
  },
  {
   "cell_type": "code",
   "execution_count": 8,
   "metadata": {
    "collapsed": false,
    "deletable": true,
    "editable": true
   },
   "outputs": [
    {
     "data": {
      "text/plain": [
       "26856.057305052884"
      ]
     },
     "execution_count": 8,
     "metadata": {},
     "output_type": "execute_result"
    }
   ],
   "source": [
    "np.median(incomes) # since we dont have many outliers, mean and median are close"
   ]
  },
  {
   "cell_type": "markdown",
   "metadata": {
    "deletable": true,
    "editable": true
   },
   "source": [
    "Now we'll add Donald Trump into the mix. Darn income inequality!"
   ]
  },
  {
   "cell_type": "code",
   "execution_count": 12,
   "metadata": {
    "collapsed": false,
    "deletable": true,
    "editable": true
   },
   "outputs": [],
   "source": [
    "incomes = np.append(incomes, [1000000000]) # added a outlier, a billionaire"
   ]
  },
  {
   "cell_type": "markdown",
   "metadata": {
    "deletable": true,
    "editable": true
   },
   "source": [
    "The median won't change much, but the mean does:"
   ]
  },
  {
   "cell_type": "code",
   "execution_count": 13,
   "metadata": {
    "collapsed": false,
    "deletable": true,
    "editable": true
   },
   "outputs": [
    {
     "data": {
      "text/plain": [
       "26857.699166771243"
      ]
     },
     "execution_count": 13,
     "metadata": {},
     "output_type": "execute_result"
    }
   ],
   "source": [
    "np.median(incomes)"
   ]
  },
  {
   "cell_type": "code",
   "execution_count": 15,
   "metadata": {
    "collapsed": false,
    "deletable": true,
    "editable": true
   },
   "outputs": [
    {
     "data": {
      "text/plain": [
       "126786.63742388171"
      ]
     },
     "execution_count": 15,
     "metadata": {},
     "output_type": "execute_result"
    }
   ],
   "source": [
    "np.mean(incomes) # with one outlier, mean skewed to 12000 from 26000"
   ]
  },
  {
   "cell_type": "markdown",
   "metadata": {
    "deletable": true,
    "editable": true
   },
   "source": [
    "## Mode"
   ]
  },
  {
   "cell_type": "markdown",
   "metadata": {
    "deletable": true,
    "editable": true
   },
   "source": [
    "Next, let's generate some fake age data for 500 people:"
   ]
  },
  {
   "cell_type": "code",
   "execution_count": 20,
   "metadata": {
    "collapsed": false,
    "deletable": true,
    "editable": true
   },
   "outputs": [
    {
     "data": {
      "text/plain": [
       "array([51, 66, 29, 77, 74, 80, 72, 47, 28, 41, 32, 81, 61, 42, 19, 53, 37,\n",
       "       84, 88, 61, 45, 47, 41, 43, 50, 58, 60, 27, 67, 20, 57, 25, 86, 80,\n",
       "       65, 63, 59, 63, 56, 61, 52, 86, 48, 71, 73, 52, 43, 53, 89, 74, 79,\n",
       "       43, 41, 27, 68, 82, 63, 31, 86, 33, 21, 78, 60, 58, 76, 27, 33, 77,\n",
       "       29, 30, 57, 80, 69, 69, 28, 67, 18, 39, 44, 53, 53, 64, 64, 41, 38,\n",
       "       79, 80, 86, 40, 81, 51, 68, 46, 63, 28, 61, 84, 27, 88, 45, 18, 84,\n",
       "       31, 44, 46, 34, 18, 35, 72, 57, 79, 61, 39, 19, 73, 31, 74, 69, 26,\n",
       "       62, 61, 60, 52, 40, 52, 67, 61, 53, 77, 39, 45, 51, 73, 46, 46, 53,\n",
       "       46, 89, 49, 42, 58, 29, 67, 59, 37, 80, 68, 28, 26, 25, 84, 63, 72,\n",
       "       60, 54, 64, 58, 29, 34, 35, 69, 35, 22, 75, 28, 78, 31, 43, 18, 55,\n",
       "       25, 78, 29, 64, 20, 21, 20, 27, 64, 84, 72, 41, 74, 81, 34, 35, 88,\n",
       "       86, 89, 62, 86, 20, 53, 27, 72, 48, 72, 69, 35, 84, 67, 72, 50, 45,\n",
       "       58, 30, 88, 41, 26, 73, 20, 65, 29, 25, 81, 34, 21, 82, 42, 19, 60,\n",
       "       46, 51, 57, 75, 47, 74, 58, 77, 42, 79, 79, 25, 18, 54, 82, 64, 44,\n",
       "       82, 27, 65, 88, 82, 84, 31, 89, 35, 48, 85, 62, 35, 29, 52, 83, 60,\n",
       "       42, 85, 45, 41, 82, 62, 85, 40, 29, 38, 84, 41, 59, 89, 27, 29, 65,\n",
       "       69, 85, 52, 29, 59, 54, 71, 45, 59, 71, 30, 65, 23, 25, 26, 26, 24,\n",
       "       80, 68, 79, 60, 86, 87, 53, 74, 27, 88, 43, 52, 51, 32, 26, 21, 32,\n",
       "       23, 21, 29, 83, 71, 35, 32, 68, 20, 43, 24, 26, 30, 30, 85, 29, 44,\n",
       "       26, 28, 34, 51, 67, 26, 37, 70, 59, 80, 35, 86, 89, 80, 81, 56, 77,\n",
       "       41, 72, 67, 46, 25, 21, 67, 20, 24, 79, 65, 69, 41, 79, 25, 67, 45,\n",
       "       82, 35, 74, 82, 63, 44, 29, 37, 43, 70, 81, 18, 54, 19, 55, 61, 59,\n",
       "       21, 23, 38, 48, 61, 82, 32, 68, 81, 38, 55, 66, 75, 29, 43, 85, 21,\n",
       "       64, 61, 21, 83, 19, 22, 25, 29, 25, 48, 64, 24, 34, 71, 53, 61, 64,\n",
       "       48, 24, 67, 88, 48, 80, 29, 57, 20, 55, 42, 22, 47, 78, 71, 57, 49,\n",
       "       57, 22, 22, 55, 62, 75, 85, 70, 74, 28, 70, 87, 83, 58, 48, 80, 25,\n",
       "       54, 19, 30, 22, 87, 23, 33, 20, 39, 88, 67, 42, 48, 45, 70, 50, 72,\n",
       "       42, 41, 40, 80, 51, 51, 61, 34, 55, 77, 37, 29, 47, 77, 39, 41, 50,\n",
       "       35, 26, 83, 83, 55, 24, 74, 22, 44, 72, 34, 80, 70, 80, 79, 39, 35,\n",
       "       76, 65, 25, 54, 52, 27, 82])"
      ]
     },
     "execution_count": 20,
     "metadata": {},
     "output_type": "execute_result"
    }
   ],
   "source": [
    "ages = np.random.randint(18, high=90, size=500)\n",
    "ages"
   ]
  },
  {
   "cell_type": "code",
   "execution_count": 21,
   "metadata": {
    "collapsed": false,
    "deletable": true,
    "editable": true
   },
   "outputs": [
    {
     "data": {
      "text/plain": [
       "ModeResult(mode=array([29]), count=array([17]))"
      ]
     },
     "execution_count": 21,
     "metadata": {},
     "output_type": "execute_result"
    }
   ],
   "source": [
    "from scipy import stats\n",
    "stats.mode(ages)\n",
    "# 29 is most frequent, 17 times"
   ]
  },
  {
   "cell_type": "code",
   "execution_count": null,
   "metadata": {
    "collapsed": false,
    "deletable": true,
    "editable": true
   },
   "outputs": [],
   "source": []
  }
 ],
 "metadata": {
  "kernelspec": {
   "display_name": "Python 2",
   "language": "python",
   "name": "python2"
  },
  "language_info": {
   "codemirror_mode": {
    "name": "ipython",
    "version": 2
   },
   "file_extension": ".py",
   "mimetype": "text/x-python",
   "name": "python",
   "nbconvert_exporter": "python",
   "pygments_lexer": "ipython2",
   "version": "2.7.13"
  }
 },
 "nbformat": 4,
 "nbformat_minor": 0
}
